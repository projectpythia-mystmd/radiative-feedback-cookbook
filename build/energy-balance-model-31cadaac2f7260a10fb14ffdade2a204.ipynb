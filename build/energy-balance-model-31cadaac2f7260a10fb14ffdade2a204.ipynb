{
 "cells": [
  {
   "cell_type": "markdown",
   "metadata": {},
   "source": [
    "<img src=\"images/ProjectPythia_Logo_Final-01-Blue.svg\" width=250 alt=\"Project Pythia Logo\"></img>"
   ]
  },
  {
   "cell_type": "markdown",
   "metadata": {},
   "source": [
    "# Energy Balance Model and Feedbacks"
   ]
  },
  {
   "cell_type": "markdown",
   "metadata": {},
   "source": [
    "---"
   ]
  },
  {
   "cell_type": "markdown",
   "metadata": {},
   "source": [
    "## Overview\n",
    "\n",
    "This tutorial focuses on introducing the fundamental concepts of the energy balance model and radiative feedback, and establish notations and definitions for the rest of the cookbook. \n",
    "\n",
    "The following topics will be covered in this tutorial: \n",
    "1. The Energy Balance Model \n",
    "2. What is Radative Feedback \n",
    "3. Methods to Calculate Radiative Feedback"
   ]
  },
  {
   "cell_type": "markdown",
   "metadata": {},
   "source": [
    "## Prerequisites\n",
    "\n",
    "| Concepts | Importance | Notes |\n",
    "| --- | --- | --- |\n",
    "| TBD | Necessary | |\n",
    "\n",
    "\n",
    "- **Time to learn**: >30 minutes"
   ]
  },
  {
   "cell_type": "markdown",
   "metadata": {},
   "source": [
    "---"
   ]
  },
  {
   "cell_type": "markdown",
   "metadata": {},
   "source": [
    "## Radiative Budget Analysis"
   ]
  },
  {
   "cell_type": "markdown",
   "metadata": {},
   "source": [
    "## The Energy Balance Model"
   ]
  },
  {
   "cell_type": "markdown",
   "metadata": {},
   "source": [
    "SOS on font settings and adding links\n",
    "<div class=\"admonition alert alert-info\">\n",
    "    <p class=\"admonition-title\" style=\"font-weight:bold\">Info</p>\n",
    "    For a more comprehensive material about the energy balance model, pokearounds on the energy balance model, and introductions to simpler energy balance models like the two-box model, feel free to check out other resources like the [Climate Laboratory](https://brian-rose.github.io/ClimateLaboratoryBook/courseware/zero-dim-ebm.html) and <p style=\"font-weight:italics\">*Chapter 2 - Global Energy Balance* from *Global Physical Climatology* {cite:p}`hartmann:ch2:2016a`. \n",
    "</div>"
   ]
  },
  {
   "cell_type": "markdown",
   "metadata": {},
   "source": [
    "Imagine a scenario where we start off with an energy-balanced Earth, where at top of atmosphere (TOA) flux towards Earth's surface is equal to the TOA flux going out to space. \n",
    "\n",
    "Now if we double the concentration levels of carbon dioxide ($CO_{2}$) in the atmopshere - the surface temperature is going to increase through the greenhouse-effect instantaneously. However, climate processes can amplify or dampen the climate response. For example, the surface may radiate more out to space due to the surface warming, which would dampen the overall warming. On the other hand, there may be more water vapor to absorb the outgoing longwave radiation in the atmosphere due to the increased rate of evaporation from the warming, and thus amplifies the warming. \n",
    "\n",
    "To put this into equations, let $R$ be the radiative imbalance, $S_o$ as the solar insolation, $\\alpha$ as the planetary albedo, and together, $S_o/4 (1-\\alpha)$ represents the absorbed solar radiation. OLR is the outgoing longwave radiation. At equilibrium where the incoming flux equals to the outgoing flux, **R** = 0. \n",
    "\n",
    "\n",
    "\\begin{equation*}\n",
    "R = F_{in} - F_{out}\n",
    "\\end{equation*}\n",
    "\n",
    "\\begin{equation*}\n",
    " R = S_o/4 (1-\\alpha) - OLR\n",
    "\\end{equation*}"
   ]
  },
  {
   "cell_type": "markdown",
   "metadata": {},
   "source": [
    "In this case, the addition of $CO_{2}$ induces a change in the radiative flux at the top of the atmosphere, and is quantified as the raditive forcing F. The climate responds to the radiative imbalance by changing the global mean temperature. We can relate the global mean surface temperature to the external perturbation and the radiative imbalance at TOA by the following equation: \n",
    "\n",
    "\n",
    "\\begin{equation*}\n",
    " R = F + \\lambda T\n",
    "\\end{equation*}\n",
    "\n",
    "where **R** is the net TOA flux anomaly (positive downward), **F** is the effective radiative forcing, **$\\lambda$** is the feedback parameter, also known as the climate response parameter, and **T** is the global mean **surface** temperature anomaly, relative to the temperature at equilibrium. \n",
    "\n",
    "Other typical conventions of the same values used within the community: \n",
    "\n",
    "- R = N (e.g. {cite:t}`gregory:2004a`);\n",
    "- R = H (e.g. {cite:t}`dessler:2015a`);\n",
    "- F = $\\Delta$Q  (e.g. {cite:t}`bony:2006a`); \n",
    "- $\\lambda$ = $\\alpha$ (e.g. {cite:t}`gregory:2004a`);"
   ]
  },
  {
   "cell_type": "markdown",
   "metadata": {},
   "source": [
    "SOS on font settings and adding links and splitting into paragraphs\n",
    "<div class=\"admonition alert alert-info\">\n",
    "    <p class=\"admonition-title\" style=\"font-weight:bold\">Info</p>\n",
    "    As you explore the feedback-forcing space, you may stumble upon the term climate sensitivity, which is the relationship between the magnitude of the climate change response and the doubling-CO2 forcing with the unit in Kelvin. \\begin{equation*}\n",
    " ECS = \\frac{1}{\\lambda}\n",
    "\\end{equation*}\n",
    "   This metric tells how much the climate system would warm per unit of radiative forcing (typically doubling of $CO_{2}$. Ch.10 Climate Sensitivity and Feedback Mechanisms in the Global Physical Climatology {cite:p}`hartmann:ch10:2016a` and the chapter \"Climate Feedbacks\" in the Encyclopedia of Atmospheric Sciences {cite:p}`dessler:2015a` provide a holistic overview on the topic, and {cite:t}`sherwood:2020a` would provide the most up-to-date understanding on equilibrium climate sensitivity (ECS) within the community. \n",
    "</div>"
   ]
  },
  {
   "cell_type": "markdown",
   "metadata": {},
   "source": [
    "## Radiative Feedback $(\\lambda)$\n",
    "\n",
    "### So, what is a feedback and why does it matter? \n",
    "\n",
    "Feedback is the climate system response to an external radiative forcing {cite:p}`hansen:1984a`, {cite:p}`bony:2006a`. When the global mean surface temperature changes, climate variables may change as well. These climate variable changes would influence the Earth's radiation balance and contribute to the radiative response.  \n",
    "\n",
    "Note that feedback is different from the radiative response, where the former has the unit of $Wm^{-2} K^{-1}$ and is quantified by the feedback parameter $\\lambda$, while the latter  has the unit of $Wm^{-2}$, quantified by $\\lambda T$. \n",
    "\n",
    "Let x be a vector representing an ensemble of climate variables like atmospheric temperature, water vapor, surface ice and snow. The formal definition of the system's total feedback parameter, which is the strength of the climate system's net feedback, is as follow {cite:p}`bony:2006a`: \n",
    "\n",
    "\\begin{equation*}\n",
    "\\lambda = \\frac{\\partial R}{\\partial T_{s}} = \\sum^{x} \\frac{\\partial R}{\\partial x} \\frac{\\partial x}{\\partial T_{s}} + \\sum \\sum \\frac{\\partial ^{2}R}{\\partial x \\partial y} \\frac{\\partial x \\partial y}{\\partial T_{s}^{2}} + ...\n",
    "\\end{equation*}\n",
    "\n",
    "(UNDER CONSTRUCTION: source needed for why do this+populate explanation on equation - Dessler and Zelinka 2015 explains it more intuitively, but require conversion from g to $\\lambda$) \n",
    "\n",
    "The net feedback parameter is reduced to the first order {cite:p}`sherwood:2020a`: \n",
    "\n",
    "\\begin{equation*}\n",
    "\\lambda = \\sum^{x}_{i}\\lambda_{i} = \\sum^{x} \\frac{\\partial R}{\\partial x} \\frac{\\partial x}{\\partial T_{s}} \n",
    "\\end{equation*}\n",
    "\n",
    "A positive feedback ($\\lambda > 0$) would make the forced response bigger while a negative feedback ($\\lambda < 0$) stabilizes the forced response. In the following subsections, we will discuss each feedback mechanism in detail and how the mechanism would feed back into enhancing or muting the response. \n"
   ]
  },
  {
   "cell_type": "markdown",
   "metadata": {},
   "source": [
    "### Types of Feedbacks \n",
    "\n",
    "Feedbacks below are listed following {cite:p}`sherwood:2020a` and are limited to feedbacks that directly affect the top-of-the-atmosphere (TOA) radiation budget, and respond to surface temperature mostly through physical processes (Bony et al. 2006): \n",
    "1. Planck Feedback\n",
    "2. Surface Albedo Feedback\n",
    "3. Water Vapor Feedback\n",
    "4. Lapse Rate Feedback\n",
    "5. Cloud Feedback\n",
    "\n",
    "The list above is not exhaustive. Feedbacks like the carbon cycle feedback are not included due to the carbon dioxide level being prescribed for the experimental set-up in Sherwood et al. (2020). Other feedbacks like the atmospheric ozone feedback and stratospheric feedback are not included as they are not normally quantified (Sherwood et al. 2020)."
   ]
  },
  {
   "cell_type": "markdown",
   "metadata": {},
   "source": [
    "### 1. Planck \"Feedback\" (Negative under warming)\n",
    "\n",
    "Planck feedback is the extra longwave (LW) emission to space from a vertically uniform warming of the surface and atmosphere, while holding all climate variable unchanged.\n",
    "\n",
    "The Planck feedback can be explained by the Stefan-Boltzmann law, which states that the total energy radiated per unit surface area per unit time is directly proportional to the fourth power of the black body's temperature. \n",
    "\n",
    "\\begin{equation*}\n",
    " F = \\sigma T^4 \n",
    "\\end{equation*}\n",
    "\n",
    "\n",
    ", where $\\sigma$ is the Stefan-Boltzmann constant ($5.67*10^{-8}$ $  Wm^{-2}K^{-4}$). If everything else is held constant, we can calculate the rate of change of TOA flux due to the change in surface warming by taking the derivative of the Stefan-Boltzmann law. Taking the Earth's average outgoing longwave radiation as 240 $Wm^{−2}$ (e.g., {cite:t}`loeb:2018a`) for the global effective emission temperature $T_{e}$ as 255K, and substitute it as follow:\n",
    "\n",
    "\\begin{equation*}\n",
    " -4\\sigma T_e^3 \\approx - 3.76 Wm^{-2}K^{-1}\n",
    "\\end{equation*}\n",
    "\n",
    "If we include the planetary emissivity $\\epsilon$, we will get $\\lambda_{Planck} \\approx -3.3Wm^{-2}K^{-1}$, which is close to observations {cite:p}`dessler:2013a` and global climate models {cite:p}`caldwell:2016a`). \n",
    "\n",
    "**Simply put, the more you heat, the more LW radiation go out.**\n",
    "\n",
    "\n",
    "[TO BE POLISHED]\n",
    "*Kernel related: structural uncertainty in Planck feedback arises from differences in spatial pattern of surface warming and climatological distribution fo clodus and water vapor that determines planetary emissivity - affects radiative temperature kernel {cite:p}`sherwood:2020a`. \n",
    "\n",
    "Types of radiative kernels there are: sfc albedo, air temp (vert.varying) , surf temp, LW water vapor kernel, SW water vapor kernel"
   ]
  },
  {
   "cell_type": "markdown",
   "metadata": {},
   "source": [
    "<div class=\"admonition alert alert-info\">\n",
    "    <p class=\"admonition-title\" style=\"font-weight:bold\">Extended Read</p>\n",
    "    Planck feedback not necessarily accurately represented in climate models due to lack of stratospheric warming {cite:ps}`cronin:2023a`\n",
    "</div>"
   ]
  },
  {
   "cell_type": "markdown",
   "metadata": {},
   "source": [
    "### 2. Surface Albedo Feedback (Positive under warming) "
   ]
  },
  {
   "cell_type": "markdown",
   "metadata": {},
   "source": [
    "The surface albedo feedback, also known as the ice-albedo feedback, pertains primarily to the high latitudes, where snow and ice are present. Snow and ice have very high albedo (reflectivity). Snow has the highest albedo (up to 90%), while sea ice albedo ranges from 50-70%. Melt ponds further reduce the albedo, and as ice recedes, open ocean can be as low as 6%.\n",
    "\n",
    "This process consitutes a positive feedback loop: melt of snow and ice decreases albedo, causing additional radiation absorption. More absorption causes temperatures to rise, which further contributes to melt, restarting the cycle."
   ]
  },
  {
   "cell_type": "markdown",
   "metadata": {},
   "source": [
    "### 3. Water Vapor Feedback: (Positive under warming) \n",
    "\n",
    "[UNDER CONSTRUCTION]\n",
    "\n",
    "Water vapor feedback and lapse rate feedback are commonly discussed together as they are both dependent on the how much water vapor is present in the atmosphere. \n",
    "\n",
    "Water vapor feedback is defined as the change in TOA net flux due to the increase in water vapor per degree of surface warming. \n",
    "\n",
    "Water vapor interacts with both longwave and shortwave radiation.  captures the change in outgoing LW and absorbed SW radiation at TOA due to the changes in the atmospheric water vapor concentration. \n",
    "\n",
    "\n",
    "[insert pic of capacity of jar increases as temperature increase]"
   ]
  },
  {
   "cell_type": "markdown",
   "metadata": {},
   "source": [
    "### 4. Lapse Rate Feedback (Negative under warming) "
   ]
  },
  {
   "cell_type": "markdown",
   "metadata": {},
   "source": [
    "LATERRRRRR"
   ]
  },
  {
   "cell_type": "markdown",
   "metadata": {},
   "source": [
    "### 5. Cloud Feedback "
   ]
  },
  {
   "cell_type": "markdown",
   "metadata": {},
   "source": [
    "The cloud feedback mechanism is the most complex feedback discussed in this tutorial. There are several reasons for this. Clouds interact with both shortwave (SW) solar radiation and longwave (LW) terrestrial radiation and exert varying radiative effects depending on their properties (cloud type, height, optical depth, liquid and ice water content, particule sizes, etc).\n",
    "\n",
    "Generally, high-level clouds do not interact much with solar radiation but easily absorb terrestrial radiation, preventing its loss to space and contribute to warming. Low-level clouds reflect solar radiation during the day, which contributes to cooling, but absorb some terrestrial radiation,  contributing to warming (particularly at night!). Thus, high-level clouds tend to exert a positive climate feedback, while low-level clouds tend to exert an overall negative climate feedback."
   ]
  },
  {
   "cell_type": "markdown",
   "metadata": {},
   "source": [
    "![High cloud versus low cloud radiative effects](../images/2-whycloudsare.jpg)<br>\n",
    "[Credit: Paulo Ceppi](https://phys.org/news/2020-09-clouds-piece-climate-puzzle.html)"
   ]
  },
  {
   "cell_type": "markdown",
   "metadata": {},
   "source": [
    "Cloud feedbacks produced by climate models tend to vary greatly, which is largely attributed to the issue of scale in modern GCMs (ESMs??). GCMs are at resolutions much too large to resolve the microscopic processes dictating the formation and properties of clouds.\n",
    "Cloud formation and lifetime is additionally complex as it is highly dependent on atmospheric aerosol loading, which is another complex discussion. Of course, clouds are also intrinsically tied to atmospheric water vapor content."
   ]
  },
  {
   "cell_type": "markdown",
   "metadata": {},
   "source": [
    "## Methods to Calculate Raditaive Feedback "
   ]
  },
  {
   "cell_type": "markdown",
   "metadata": {},
   "source": [
    "Typically radiative feedback are calculated with global climate models. :O\n",
    "- PRP method\n",
    "\n",
    "\n",
    "Workin on it >:) "
   ]
  },
  {
   "cell_type": "markdown",
   "metadata": {},
   "source": [
    "<div class=\"admonition alert alert-success\">\n",
    "    <p class=\"admonition-title\" style=\"font-weight:bold\">Success</p>\n",
    "    We got this done after all!\n",
    "</div>"
   ]
  },
  {
   "cell_type": "markdown",
   "metadata": {},
   "source": [
    "<div class=\"admonition alert alert-warning\">\n",
    "    <p class=\"admonition-title\" style=\"font-weight:bold\">Warning</p>\n",
    "    Be careful!\n",
    "</div>"
   ]
  },
  {
   "cell_type": "markdown",
   "metadata": {},
   "source": [
    "<div class=\"admonition alert alert-danger\">\n",
    "    <p class=\"admonition-title\" style=\"font-weight:bold\">Danger</p>\n",
    "    Scary stuff be here.\n",
    "</div>"
   ]
  },
  {
   "cell_type": "markdown",
   "metadata": {},
   "source": [
    "We also suggest checking out Jupyter Book's [brief demonstration](https://jupyterbook.org/content/metadata.html#jupyter-cell-tags) on adding cell tags to your cells in Jupyter Notebook, Lab, or manually. Using these cell tags can allow you to [customize](https://jupyterbook.org/interactive/hiding.html) how your code content is displayed and even [demonstrate errors](https://jupyterbook.org/content/execute.html#dealing-with-code-that-raises-errors) without altogether crashing our loyal army of machines!"
   ]
  },
  {
   "cell_type": "markdown",
   "metadata": {},
   "source": [
    "---"
   ]
  },
  {
   "cell_type": "markdown",
   "metadata": {},
   "source": [
    "## Summary\n",
    "Add one final `---` marking the end of your body of content, and then conclude with a brief single paragraph summarizing at a high level the key pieces that were learned and how they tied to your objectives. Look to reiterate what the most important takeaways were.\n",
    "\n",
    "### What's next?\n",
    "Let Jupyter book tie this to the next (sequential) piece of content that people could move on to down below and in the sidebar. However, if this page uniquely enables your reader to tackle other nonsequential concepts throughout this book, or even external content, link to it here!"
   ]
  },
  {
   "cell_type": "markdown",
   "metadata": {},
   "source": [
    "References: \n",
    "- Bony et al. 2006\n",
    "- Zelinka et al. 2020\n",
    "- Sherwood et al. 2020\n",
    "- Dessler and Zelinka 2015 (Encyclopedia of Atmospheric Sciences)\n",
    "- Hartmann 2016 (Global Physical Climatology)\n",
    "- Hansen et al. 1984\n",
    "- Gregory et al. 2004\n",
    "\n",
    "More to come"
   ]
  },
  {
   "cell_type": "code",
   "execution_count": null,
   "metadata": {},
   "outputs": [],
   "source": []
  }
 ],
 "metadata": {
  "kernelspec": {
   "display_name": "Python 3 (ipykernel)",
   "language": "python",
   "name": "python3"
  },
  "language_info": {
   "codemirror_mode": {
    "name": "ipython",
    "version": 3
   },
   "file_extension": ".py",
   "mimetype": "text/x-python",
   "name": "python",
   "nbconvert_exporter": "python",
   "pygments_lexer": "ipython3",
   "version": "3.11.9"
  },
  "nbdime-conflicts": {
   "local_diff": [
    {
     "diff": [
      {
       "diff": [
        {
         "key": 0,
         "op": "addrange",
         "valuelist": [
          "Python 3"
         ]
        },
        {
         "key": 0,
         "length": 1,
         "op": "removerange"
        }
       ],
       "key": "display_name",
       "op": "patch"
      }
     ],
     "key": "kernelspec",
     "op": "patch"
    }
   ],
   "remote_diff": [
    {
     "diff": [
      {
       "diff": [
        {
         "key": 0,
         "op": "addrange",
         "valuelist": [
          "Python3"
         ]
        },
        {
         "key": 0,
         "length": 1,
         "op": "removerange"
        }
       ],
       "key": "display_name",
       "op": "patch"
      }
     ],
     "key": "kernelspec",
     "op": "patch"
    }
   ]
  },
  "toc-autonumbering": false
 },
 "nbformat": 4,
 "nbformat_minor": 4
}
